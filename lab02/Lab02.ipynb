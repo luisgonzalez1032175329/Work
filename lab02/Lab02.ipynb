{
 "cells": [
  {
   "cell_type": "code",
   "execution_count": 1,
   "metadata": {},
   "outputs": [],
   "source": [
    "import numpy as np\n",
    "import sys"
   ]
  },
  {
   "cell_type": "code",
   "execution_count": 2,
   "metadata": {},
   "outputs": [],
   "source": [
    "def matr(lists):\n",
    "    for i in lists:\n",
    "        for j in i:\n",
    "            print(j,end=\" \")\n",
    "        print()"
   ]
  },
  {
   "cell_type": "code",
   "execution_count": 5,
   "metadata": {},
   "outputs": [],
   "source": [
    "#1. Маршрутное шифрование\n",
    "def marshifr():\n",
    "    text=input(\"Text: \").replace(' ','')\n",
    "    n=int(input(\"n= \"))\n",
    "    m=int(input(\"m= \"))\n",
    "    password=input(\"Password: \")\n",
    "    lists=[['a' for i in range(0,n)]for j in range(m)]\n",
    "    it=0\n",
    "    for i in range(m):\n",
    "        for j in range(n):\n",
    "            if it < len(text):\n",
    "                lists[i][j]=text[it]\n",
    "                it+=1\n",
    "    lis=list()\n",
    "    for i in range(n):\n",
    "        lis.append(password[i])\n",
    "    lists.append(lis)\n",
    "    print(lists)\n",
    "    result=\"\"\n",
    "    sortpass=sorted(lists[len(lists)-1])\n",
    "    for i in sortpass:\n",
    "        print(i,\" = \",lists[len(lists)-1].index(i))\n",
    "        for j in range(len(lists)):\n",
    "            if j ==len(lists)-1:\n",
    "                continue\n",
    "            result +=lists[j][lists[len(lists)-1].index(i)]\n",
    "    print(result)"
   ]
  },
  {
   "cell_type": "code",
   "execution_count": 7,
   "metadata": {},
   "outputs": [
    {
     "name": "stdout",
     "output_type": "stream",
     "text": [
      "Text: недооценивать противника\n",
      "n= 6\n",
      "m= 5\n",
      "Password: пароль\n",
      "[['н', 'е', 'д', 'о', 'о', 'ц'], ['е', 'н', 'и', 'в', 'а', 'т'], ['ь', 'п', 'р', 'о', 'т', 'и'], ['в', 'н', 'и', 'к', 'а', 'a'], ['a', 'a', 'a', 'a', 'a', 'a'], ['п', 'а', 'р', 'о', 'л', 'ь']]\n",
      "а  =  1\n",
      "л  =  4\n",
      "о  =  3\n",
      "п  =  0\n",
      "р  =  2\n",
      "ь  =  5\n",
      "енпнaоатаaовокaнеьвaдириaцтиaa\n"
     ]
    }
   ],
   "source": [
    "marshifr()"
   ]
  },
  {
   "cell_type": "code",
   "execution_count": 11,
   "metadata": {},
   "outputs": [],
   "source": [
    "#2. Шифрование с помощью решеток\n",
    "def rotate90(matri):\n",
    "    return[list(reversed(col))for col in zip(*matri)]\n",
    "def deleting(largelist,inn,k):\n",
    "    for i in range(k*2):\n",
    "        for j in range(k*2):\n",
    "            if largelist[i][j]==inn:\n",
    "                largelist[i][j]= \" \"\n",
    "                return\n",
    "            \n",
    "def reshotki():\n",
    "    k=int(input(\"k= \"))\n",
    "    s=1\n",
    "    lists=[[i for i in range(k)]for i in range(k)]\n",
    "    for i in range(k):\n",
    "        for j in range(k):\n",
    "            lists[i][j] = s\n",
    "            s+=1\n",
    "    print(lists)\n",
    "    lists1=rotate90(lists)\n",
    "    lists2=rotate90(lists1)\n",
    "    lists3=rotate90(lists2)\n",
    "    largelist=[[1 for i in range(2*k)]for i in range(2*k)]\n",
    "    for i in range(k):\n",
    "        for j in range(k):\n",
    "            largelist[i][j]=lists[i][j]\n",
    "    i1=0\n",
    "    j1=0\n",
    "    for i in range(0,k):\n",
    "        for j in range(k,k*2):\n",
    "            largelist[i][j]=lists1[i1][j1]\n",
    "            j1+=1\n",
    "        j1=0\n",
    "        i1+=1\n",
    "    i1=0\n",
    "    j1=0\n",
    "    for i in range(k,k*2):\n",
    "        for j in range(k,k*2):\n",
    "            largelist[i][j]=lists2[i1][j1]\n",
    "            j1+=1\n",
    "        j1=0\n",
    "        i1+=1\n",
    "    i1=0\n",
    "    j1=0\n",
    "    for i in range(k,k*2):\n",
    "        for j in range(k,k*2):\n",
    "            largelist[i][j]=lists3[i1][j1]\n",
    "            j1+=1\n",
    "        j1=0\n",
    "        i1+=1\n",
    "    matr(largelist)\n",
    "    text=\"договорподписали\"\n",
    "    largelist_a=[[\" \"for i in range(2*k)]for i in range(2*k)]\n",
    "    s=0\n",
    "    li=[i for i in range(1,k**2+1)]\n",
    "    for inn in li:\n",
    "        deleting(largelist,inn,k)\n",
    "    ind=0\n",
    "    for i in range(k*2):\n",
    "        for j in range(k*2):\n",
    "            if largelist[i][j]==largelist_a[i][j] and len(text) >0:\n",
    "                largelist_a[i][j]=text[0]\n",
    "                text=text[1:]\n",
    "    largelist=rotate90(largelist)\n",
    "    for i in range(k*2):\n",
    "        for j in range(k*2):\n",
    "            if largelist[i][j]==largelist_a[i][j] and len(text) >0:\n",
    "                largelist_a[i][j]=text[0]\n",
    "                text=text[1:]\n",
    "    if len(text)>0:\n",
    "        largelist=rotate90(largelist)\n",
    "        for i in range(k*2):\n",
    "            for j in range(k*2):\n",
    "                if largelist[i][j]==largelist_a[i][j] and len(text) >0:\n",
    "                    largelist_a[i][j]=text[0]\n",
    "                    text=text[1:]\n",
    "    if len(text)>0:\n",
    "        largelist=rotate90(largelist)\n",
    "        for i in range(k*2):\n",
    "            for j in range(k*2):\n",
    "                if largelist[i][j]==largelist_a[i][j] and len(text) >0:\n",
    "                    largelist_a[i][j]=text[0]\n",
    "                    text=text[1:]\n",
    "    matr(largelist_a)\n",
    "    stri=input(\"Password: \")\n",
    "    if len(stri)> k * 2:\n",
    "        stri=stri[:k*2]\n",
    "    elif len(stri) < k*2:\n",
    "        while len(stri) != k*2:\n",
    "            stri +=\"z\"\n",
    "    largelist_a.append(list(stri))\n",
    "    matr(largelist_a)\n",
    "    result=\"\"\n",
    "    spisok= sorted(largelist_a[len(largelist_a)-1])\n",
    "    for i in spisok:\n",
    "        print(i, \" = \",largelist_a[len(largelist_a)-1].index(i))\n",
    "        for j in range(len(largelist_a)):\n",
    "            if j ==len(largelist_a)-1:\n",
    "                continue\n",
    "            result += largelist_a[j][largelist_a[len(largelist_a)-1].index(i)]\n",
    "    print(result.replace(\" \",\"\"))\n",
    "    "
   ]
  },
  {
   "cell_type": "code",
   "execution_count": 13,
   "metadata": {},
   "outputs": [
    {
     "name": "stdout",
     "output_type": "stream",
     "text": [
      "k= 4\n",
      "[[1, 2, 3, 4], [5, 6, 7, 8], [9, 10, 11, 12], [13, 14, 15, 16]]\n",
      "1 2 3 4 13 9 5 1 \n",
      "5 6 7 8 14 10 6 2 \n",
      "9 10 11 12 15 11 7 3 \n",
      "13 14 15 16 16 12 8 4 \n",
      "1 1 1 1 4 8 12 16 \n",
      "1 1 1 1 3 7 11 15 \n",
      "1 1 1 1 2 6 10 14 \n",
      "1 1 1 1 1 5 9 13 \n",
      "д о г о в о р   \n",
      "  п о д п и     \n",
      "    с а л       \n",
      "      и         \n",
      "                \n",
      "                \n",
      "                \n",
      "                \n",
      "Password: шифр\n",
      "д о г о в о р   \n",
      "  п о д п и     \n",
      "    с а л       \n",
      "      и         \n",
      "                \n",
      "                \n",
      "                \n",
      "                \n",
      "ш и ф р z z z z \n",
      "z  =  4\n",
      "z  =  4\n",
      "z  =  4\n",
      "z  =  4\n",
      "и  =  1\n",
      "р  =  3\n",
      "ф  =  2\n",
      "ш  =  0\n",
      "вплвплвплвплоподаигосд\n"
     ]
    }
   ],
   "source": [
    "reshotki()"
   ]
  },
  {
   "cell_type": "code",
   "execution_count": 22,
   "metadata": {},
   "outputs": [
    {
     "data": {
      "text/plain": [
       "['а',\n",
       " 'б',\n",
       " 'в',\n",
       " 'г',\n",
       " 'д',\n",
       " 'е',\n",
       " 'ж',\n",
       " 'з',\n",
       " 'и',\n",
       " 'й',\n",
       " 'к',\n",
       " 'л',\n",
       " 'м',\n",
       " 'н',\n",
       " 'о',\n",
       " 'п',\n",
       " 'р',\n",
       " 'с',\n",
       " 'т',\n",
       " 'у',\n",
       " 'ф',\n",
       " 'х',\n",
       " 'ц',\n",
       " 'ч',\n",
       " 'ш',\n",
       " 'щ',\n",
       " 'ъ',\n",
       " 'ы',\n",
       " 'ь',\n",
       " 'э',\n",
       " 'ю',\n",
       " 'я']"
      ]
     },
     "execution_count": 22,
     "metadata": {},
     "output_type": "execute_result"
    }
   ],
   "source": [
    "#3 Таблица Виженера\n",
    "alpha=[chr(i) for i in range(1072, 1072+32)]\n",
    "alpha"
   ]
  },
  {
   "cell_type": "code",
   "execution_count": 24,
   "metadata": {},
   "outputs": [],
   "source": [
    "alpha.remove('ъ')"
   ]
  },
  {
   "cell_type": "code",
   "execution_count": 25,
   "metadata": {},
   "outputs": [
    {
     "data": {
      "text/plain": [
       "31"
      ]
     },
     "execution_count": 25,
     "metadata": {},
     "output_type": "execute_result"
    }
   ],
   "source": [
    "len(alpha)"
   ]
  },
  {
   "cell_type": "code",
   "execution_count": 26,
   "metadata": {},
   "outputs": [],
   "source": [
    "newalpha=[]\n",
    "for i in range(len(alpha)):\n",
    "    current=alpha[i:]+alpha[:i]\n",
    "    newalpha.append(current)\n",
    "newalpha=np.array(newalpha)"
   ]
  },
  {
   "cell_type": "code",
   "execution_count": 27,
   "metadata": {},
   "outputs": [
    {
     "data": {
      "text/plain": [
       "'криптографиясерьезнаянаука'"
      ]
     },
     "execution_count": 27,
     "metadata": {},
     "output_type": "execute_result"
    }
   ],
   "source": [
    "message= 'криптография серьезная наука'.replace(' ','')\n",
    "message"
   ]
  },
  {
   "cell_type": "code",
   "execution_count": 28,
   "metadata": {},
   "outputs": [],
   "source": [
    "password= 'математика'"
   ]
  },
  {
   "cell_type": "code",
   "execution_count": 29,
   "metadata": {},
   "outputs": [
    {
     "data": {
      "text/plain": [
       "'математикаматематикаматема'"
      ]
     },
     "execution_count": 29,
     "metadata": {},
     "output_type": "execute_result"
    }
   ],
   "source": [
    "while len(password)<len(message):\n",
    "    password+=password\n",
    "password=password[:len(message)]\n",
    "password"
   ]
  },
  {
   "cell_type": "code",
   "execution_count": 30,
   "metadata": {},
   "outputs": [],
   "source": [
    "result=''\n",
    "for i,j in zip(message,password):\n",
    "    x=[idx for idx,k in enumerate(newalpha[0,:])if k==i][0]\n",
    "    y=[idx for idx,k in enumerate(newalpha[:,0])if k==j][0]\n",
    "    result+=newalpha[x,y]"
   ]
  },
  {
   "cell_type": "code",
   "execution_count": 31,
   "metadata": {},
   "outputs": [
    {
     "data": {
      "text/plain": [
       "'црыфяохшкффядкэьчпчалнтшца'"
      ]
     },
     "execution_count": 31,
     "metadata": {},
     "output_type": "execute_result"
    }
   ],
   "source": [
    "result"
   ]
  },
  {
   "cell_type": "code",
   "execution_count": null,
   "metadata": {},
   "outputs": [],
   "source": []
  }
 ],
 "metadata": {
  "kernelspec": {
   "display_name": "Python 3",
   "language": "python",
   "name": "python3"
  },
  "language_info": {
   "codemirror_mode": {
    "name": "ipython",
    "version": 3
   },
   "file_extension": ".py",
   "mimetype": "text/x-python",
   "name": "python",
   "nbconvert_exporter": "python",
   "pygments_lexer": "ipython3",
   "version": "3.8.3"
  }
 },
 "nbformat": 4,
 "nbformat_minor": 4
}
