{
 "cells": [
  {
   "cell_type": "code",
   "execution_count": 1,
   "metadata": {},
   "outputs": [],
   "source": [
    "def alg_euclid(a,b):\n",
    "    assert 0<b<=a\n",
    "    \n",
    "    r=[a,b]\n",
    "    while r[-2]%r[-1]!=0:\n",
    "        r.append(r[-2]%r[-1])\n",
    "    return r[-1]"
   ]
  },
  {
   "cell_type": "code",
   "execution_count": 2,
   "metadata": {},
   "outputs": [
    {
     "data": {
      "text/plain": [
       "2"
      ]
     },
     "execution_count": 2,
     "metadata": {},
     "output_type": "execute_result"
    }
   ],
   "source": [
    "alg_euclid(14,6)"
   ]
  },
  {
   "cell_type": "code",
   "execution_count": 3,
   "metadata": {},
   "outputs": [
    {
     "data": {
      "text/plain": [
       "2"
      ]
     },
     "execution_count": 3,
     "metadata": {},
     "output_type": "execute_result"
    }
   ],
   "source": [
    "def bin_euclid(a,b):\n",
    "    assert 0<b<=a\n",
    "    g=1\n",
    "    \n",
    "    while a%2==0 and b%2==0:\n",
    "        a=a/2\n",
    "        b=b/2\n",
    "        g*=2\n",
    "    u=a\n",
    "    v=b\n",
    "    while u!=0:\n",
    "        while u%2==0:\n",
    "            u=u/2\n",
    "        while v%2==0:\n",
    "            v=v/2\n",
    "        if u>=v:\n",
    "            u=u-v\n",
    "        else:\n",
    "            v=v-u\n",
    "            \n",
    "    d=g*v\n",
    "    return int(d)\n",
    "\n",
    "bin_euclid(14,6)"
   ]
  },
  {
   "cell_type": "code",
   "execution_count": 4,
   "metadata": {},
   "outputs": [
    {
     "data": {
      "text/plain": [
       "2"
      ]
     },
     "execution_count": 4,
     "metadata": {},
     "output_type": "execute_result"
    }
   ],
   "source": [
    "def ext_euclid (a,b):\n",
    "    assert 0<b<=a\n",
    "    \n",
    "    u=[a,1,0]\n",
    "    v=[b,0,1]\n",
    "    while v[0]!=0:\n",
    "        q=u[0]//v[0]\n",
    "        t=[u[0]%v[0], u[1]-q*v[1],u[2]-q*v[2]]\n",
    "        u,v=v,t\n",
    "    return u[0]\n",
    "\n",
    "ext_euclid (14,6)"
   ]
  },
  {
   "cell_type": "code",
   "execution_count": 8,
   "metadata": {},
   "outputs": [
    {
     "data": {
      "text/plain": [
       "2"
      ]
     },
     "execution_count": 8,
     "metadata": {},
     "output_type": "execute_result"
    }
   ],
   "source": [
    "def bin_ext_euclid(a,b):\n",
    "    assert 0<b<=a\n",
    "    \n",
    "    g=1\n",
    "    while a%2==0 and b%2==0:\n",
    "        a=a/2\n",
    "        b=b/2\n",
    "        g*=2\n",
    "    u=a\n",
    "    v=b\n",
    "    A=1\n",
    "    B=0\n",
    "    C=0\n",
    "    D=1\n",
    "    while u!=0:\n",
    "        while u%2==0:\n",
    "            u=u/2\n",
    "            if A%2==0 and B%2==0:\n",
    "                A=A/2\n",
    "                B=B/2\n",
    "            else:\n",
    "                A=(A+b)/2\n",
    "                B=(B-a)/2\n",
    "        while v%2==0:\n",
    "            v=v/2\n",
    "            if C%2==0 and D%2==0:\n",
    "                C=C/2\n",
    "                D=D/2\n",
    "            else:\n",
    "                C=(C+b)/2\n",
    "                D=(D-a)/2\n",
    "        if u>=v:\n",
    "            u=u-v\n",
    "            A=A-C\n",
    "            B=B-D\n",
    "        else:\n",
    "            v=v-u\n",
    "            C=(C+b)/2\n",
    "            D=(D-a)/2\n",
    "    d=g*v\n",
    "    x=C\n",
    "    y=D\n",
    "    return int(d),x,y\n",
    "\n",
    "bin_ext_euclid(14,6)[0]"
   ]
  },
  {
   "cell_type": "code",
   "execution_count": null,
   "metadata": {},
   "outputs": [],
   "source": []
  }
 ],
 "metadata": {
  "kernelspec": {
   "display_name": "Python 3",
   "language": "python",
   "name": "python3"
  },
  "language_info": {
   "codemirror_mode": {
    "name": "ipython",
    "version": 3
   },
   "file_extension": ".py",
   "mimetype": "text/x-python",
   "name": "python",
   "nbconvert_exporter": "python",
   "pygments_lexer": "ipython3",
   "version": "3.8.3"
  }
 },
 "nbformat": 4,
 "nbformat_minor": 4
}
