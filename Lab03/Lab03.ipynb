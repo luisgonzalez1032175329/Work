{
 "cells": [
  {
   "cell_type": "code",
   "execution_count": 1,
   "metadata": {
    "scrolled": true
   },
   "outputs": [
    {
     "data": {
      "text/plain": [
       "['а',\n",
       " 'б',\n",
       " 'в',\n",
       " 'г',\n",
       " 'д',\n",
       " 'е',\n",
       " 'ж',\n",
       " 'з',\n",
       " 'и',\n",
       " 'й',\n",
       " 'к',\n",
       " 'л',\n",
       " 'м',\n",
       " 'н',\n",
       " 'о',\n",
       " 'п',\n",
       " 'р',\n",
       " 'с',\n",
       " 'т',\n",
       " 'у',\n",
       " 'ф',\n",
       " 'х',\n",
       " 'ц',\n",
       " 'ч',\n",
       " 'ш',\n",
       " 'щ',\n",
       " 'ъ',\n",
       " 'ы',\n",
       " 'ь',\n",
       " 'э',\n",
       " 'ю',\n",
       " 'я',\n",
       " 'ё']"
      ]
     },
     "execution_count": 1,
     "metadata": {},
     "output_type": "execute_result"
    }
   ],
   "source": [
    "alpha=[chr(i) for i in range(1072,1072+34) if i!=1104]\n",
    "alphabet=alpha[:6]+[alpha[-1]]+alpha[6:-1]\n",
    "alpha"
   ]
  },
  {
   "cell_type": "code",
   "execution_count": 2,
   "metadata": {},
   "outputs": [
    {
     "data": {
      "text/plain": [
       "{'а': 1,\n",
       " 'б': 2,\n",
       " 'в': 3,\n",
       " 'г': 4,\n",
       " 'д': 5,\n",
       " 'е': 6,\n",
       " 'ё': 7,\n",
       " 'ж': 8,\n",
       " 'з': 9,\n",
       " 'и': 10,\n",
       " 'й': 11,\n",
       " 'к': 12,\n",
       " 'л': 13,\n",
       " 'м': 14,\n",
       " 'н': 15,\n",
       " 'о': 16,\n",
       " 'п': 17,\n",
       " 'р': 18,\n",
       " 'с': 19,\n",
       " 'т': 20,\n",
       " 'у': 21,\n",
       " 'ф': 22,\n",
       " 'х': 23,\n",
       " 'ц': 24,\n",
       " 'ч': 25,\n",
       " 'ш': 26,\n",
       " 'щ': 27,\n",
       " 'ъ': 28,\n",
       " 'ы': 29,\n",
       " 'ь': 30,\n",
       " 'э': 31,\n",
       " 'ю': 32,\n",
       " 'я': 33}"
      ]
     },
     "execution_count": 2,
     "metadata": {},
     "output_type": "execute_result"
    }
   ],
   "source": [
    "index={v:k+1 for k,v in enumerate(alphabet)}\n",
    "index"
   ]
  },
  {
   "cell_type": "code",
   "execution_count": 3,
   "metadata": {},
   "outputs": [],
   "source": [
    "def gamma(message,password,m):\n",
    "    message=[index[i] for i in message.lower()]\n",
    "    password=[index[i] for i in password.lower()]\n",
    "    print(\"Message: \",message)\n",
    "    print(\"Password: \", password)\n",
    "    \n",
    "    gamma_message=[]\n",
    "    for idx,char in enumerate(message):\n",
    "        cod= char + password[idx%len(password)]%m\n",
    "        gamma_message +=[cod]\n",
    "        \n",
    "    text_gamma= ''.join([alphabet[i-1] for i in gamma_message]).upper()\n",
    "    return gamma_message, text_gamma"
   ]
  },
  {
   "cell_type": "code",
   "execution_count": 4,
   "metadata": {},
   "outputs": [
    {
     "name": "stdout",
     "output_type": "stream",
     "text": [
      "Message:  [17, 18, 10, 12, 1, 9]\n",
      "Password:  [4, 1, 14, 14, 1]\n"
     ]
    }
   ],
   "source": [
    "gamma_message= gamma('приказ','гамма',33)"
   ]
  },
  {
   "cell_type": "code",
   "execution_count": 5,
   "metadata": {},
   "outputs": [
    {
     "data": {
      "text/plain": [
       "([21, 19, 24, 26, 2, 13], 'УСЦШБЛ')"
      ]
     },
     "execution_count": 5,
     "metadata": {},
     "output_type": "execute_result"
    }
   ],
   "source": [
    "gamma_message"
   ]
  },
  {
   "cell_type": "code",
   "execution_count": null,
   "metadata": {},
   "outputs": [],
   "source": []
  }
 ],
 "metadata": {
  "kernelspec": {
   "display_name": "Python 3",
   "language": "python",
   "name": "python3"
  },
  "language_info": {
   "codemirror_mode": {
    "name": "ipython",
    "version": 3
   },
   "file_extension": ".py",
   "mimetype": "text/x-python",
   "name": "python",
   "nbconvert_exporter": "python",
   "pygments_lexer": "ipython3",
   "version": "3.8.3"
  }
 },
 "nbformat": 4,
 "nbformat_minor": 4
}
