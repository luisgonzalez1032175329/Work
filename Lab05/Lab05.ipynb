{
 "cells": [
  {
   "cell_type": "code",
   "execution_count": 1,
   "metadata": {},
   "outputs": [],
   "source": [
    "import numpy as np"
   ]
  },
  {
   "cell_type": "code",
   "execution_count": 2,
   "metadata": {},
   "outputs": [],
   "source": [
    "#Тест Ферма\n",
    "def ferma(n):\n",
    "    a=np.random.randint(2,n-2)\n",
    "    r=(a**(n-1))%n\n",
    "    if r==1:\n",
    "        return f'Число n, вероятно, простое'\n",
    "    else:\n",
    "        return f'Число n составное'"
   ]
  },
  {
   "cell_type": "code",
   "execution_count": 3,
   "metadata": {},
   "outputs": [
    {
     "data": {
      "text/plain": [
       "'Число n, вероятно, простое'"
      ]
     },
     "execution_count": 3,
     "metadata": {},
     "output_type": "execute_result"
    }
   ],
   "source": [
    "ferma(31)"
   ]
  },
  {
   "cell_type": "code",
   "execution_count": 4,
   "metadata": {},
   "outputs": [],
   "source": [
    "#Символ Якобы \n",
    "def jacobi(n,a):\n",
    "    assert n>=3\n",
    "    assert 0<=a<n\n",
    "    \n",
    "    if a<0:\n",
    "        return -a/n\n",
    "    elif a%2==0:\n",
    "        return (a/2)/n\n",
    "    elif a==1:\n",
    "        return 1\n",
    "    elif a<n:\n",
    "        return n/a\n",
    "    else:\n",
    "        return (a%n)/n"
   ]
  },
  {
   "cell_type": "code",
   "execution_count": 5,
   "metadata": {},
   "outputs": [],
   "source": [
    "#Тест Соловэя\n",
    "def solovey(n):\n",
    "    assert n%2==1 and n>=5 #только можно вводить нечетные чилса\n",
    "    a = np.random.randint(2, n-2)\n",
    "    r=(a**((n-1)/2))%n\n",
    "    if r!=1 and r!=n-1:\n",
    "        return f'Число n составное'\n",
    "    else:\n",
    "        s=jacobi(n,a)\n",
    "        print(s%n,r)\n",
    "        if s%n==r:\n",
    "            return f'Число n составное'\n",
    "        else:\n",
    "            return f'Число n, вероятно, простое'"
   ]
  },
  {
   "cell_type": "code",
   "execution_count": 6,
   "metadata": {},
   "outputs": [
    {
     "name": "stdout",
     "output_type": "stream",
     "text": [
      "0.15789473684210525 1.0\n"
     ]
    },
    {
     "data": {
      "text/plain": [
       "'Число n, вероятно, простое'"
      ]
     },
     "execution_count": 6,
     "metadata": {},
     "output_type": "execute_result"
    }
   ],
   "source": [
    "solovey(19)"
   ]
  },
  {
   "cell_type": "code",
   "execution_count": 7,
   "metadata": {},
   "outputs": [],
   "source": [
    "#Тест Миллера\n",
    "def view(n):\n",
    "    assert n%2==0\n",
    "    init_n=n\n",
    "    s=0\n",
    "    t=0\n",
    "    while 1:\n",
    "        n/=2\n",
    "        s+=1\n",
    "        if n%2==1:\n",
    "            return s,int(n)\n",
    "\n",
    "def miller(n):\n",
    "    assert n>=5 and n%2==1 ##только можно вводить нечетные чилса\n",
    "    \n",
    "    s,r=view(n-1)\n",
    "    a=np.random.randint(2,n-2)\n",
    "    y=(a**r)%n\n",
    "    if y!=1 and y!=n:\n",
    "        j=1\n",
    "        if j<=s-1 and y!=n-1:\n",
    "            y=(y**2)%n\n",
    "            if y==1:\n",
    "                return f'Число n составное'\n",
    "            else:\n",
    "                j+=1\n",
    "        if y!=n-1:\n",
    "            return f'Число n сосатвное'\n",
    "    return f'Число n, вероятно, простое'"
   ]
  },
  {
   "cell_type": "code",
   "execution_count": 8,
   "metadata": {},
   "outputs": [
    {
     "data": {
      "text/plain": [
       "'Число n, вероятно, простое'"
      ]
     },
     "execution_count": 8,
     "metadata": {},
     "output_type": "execute_result"
    }
   ],
   "source": [
    "miller(23)"
   ]
  },
  {
   "cell_type": "code",
   "execution_count": null,
   "metadata": {},
   "outputs": [],
   "source": []
  }
 ],
 "metadata": {
  "kernelspec": {
   "display_name": "Python 3",
   "language": "python",
   "name": "python3"
  },
  "language_info": {
   "codemirror_mode": {
    "name": "ipython",
    "version": 3
   },
   "file_extension": ".py",
   "mimetype": "text/x-python",
   "name": "python",
   "nbconvert_exporter": "python",
   "pygments_lexer": "ipython3",
   "version": "3.7.4"
  }
 },
 "nbformat": 4,
 "nbformat_minor": 2
}
