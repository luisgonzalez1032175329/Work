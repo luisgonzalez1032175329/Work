{
 "cells": [
  {
   "cell_type": "code",
   "execution_count": 1,
   "metadata": {},
   "outputs": [],
   "source": [
    "def code_cesar(message, k):\n",
    "    message=message.upper()\n",
    "    stroka=''\n",
    "    for text in message.split():\n",
    "        for i in text:\n",
    "            number=(ord(i)-65+k)%26\n",
    "            let=chr(65+number)\n",
    "            stroka+=let\n",
    "        stroka+=' '\n",
    "    return stroka"
   ]
  },
  {
   "cell_type": "code",
   "execution_count": 2,
   "metadata": {},
   "outputs": [
    {
     "data": {
      "text/plain": [
       "'YHQL YLGL YLFL '"
      ]
     },
     "execution_count": 2,
     "metadata": {},
     "output_type": "execute_result"
    }
   ],
   "source": [
    "code_cesar('Veni vidi vici',3)"
   ]
  },
  {
   "cell_type": "code",
   "execution_count": 3,
   "metadata": {},
   "outputs": [],
   "source": [
    "def code_atbash(message):\n",
    "    message=message.lower()\n",
    "    stroka=''\n",
    "    for i in message:\n",
    "        if i==' ':\n",
    "            number=1072\n",
    "            let=chr(number)\n",
    "        elif i=='а':\n",
    "            number=32\n",
    "            let=chr(number)\n",
    "        else:\n",
    "            number=ord(i)-1073\n",
    "            let=chr(1103-number)\n",
    "        stroka+=let\n",
    "    return stroka\n",
    "            "
   ]
  },
  {
   "cell_type": "code",
   "execution_count": 4,
   "metadata": {},
   "outputs": [
    {
     "data": {
      "text/plain": [
       "'сршюыоау иыфнафшрн'"
      ]
     },
     "execution_count": 4,
     "metadata": {},
     "output_type": "execute_result"
    }
   ],
   "source": [
    "code_atbash('Привет нашему миру')"
   ]
  },
  {
   "cell_type": "code",
   "execution_count": null,
   "metadata": {},
   "outputs": [],
   "source": []
  }
 ],
 "metadata": {
  "kernelspec": {
   "display_name": "Python 3",
   "language": "python",
   "name": "python3"
  },
  "language_info": {
   "codemirror_mode": {
    "name": "ipython",
    "version": 3
   },
   "file_extension": ".py",
   "mimetype": "text/x-python",
   "name": "python",
   "nbconvert_exporter": "python",
   "pygments_lexer": "ipython3",
   "version": "3.8.3"
  }
 },
 "nbformat": 4,
 "nbformat_minor": 2
}
